{
  "nbformat": 4,
  "nbformat_minor": 0,
  "metadata": {
    "colab": {
      "name": "Quickdraw_challenge.ipynb",
      "provenance": [],
      "collapsed_sections": []
    },
    "kernelspec": {
      "name": "python3",
      "display_name": "Python 3"
    },
    "accelerator": "GPU"
  },
  "cells": [
    {
      "cell_type": "markdown",
      "metadata": {
        "id": "v5EecL6yFeO5",
        "colab_type": "text"
      },
      "source": [
        "# Quick, Draw! Challenge\n",
        "\n",
        "Quick, Draw! is an online game developed by Google that challenges players to draw a picture of an object or idea and then uses a neural network artificial intelligence to guess what the drawings represent. (Wikipedia)\n",
        "\n",
        "### Task\n",
        "\n",
        "Build a neural network to identify the categories of the drawings.\n",
        "\n",
        "### Dataset\n",
        "\n",
        "20 Categories from the Quick, Draw! challenge. I use 12,000 drawings per category to build a neural network using Keras framework."
      ]
    },
    {
      "cell_type": "markdown",
      "metadata": {
        "id": "PCZ7pPoFFYY9",
        "colab_type": "text"
      },
      "source": [
        "## Import Drive and download Quickdraw file"
      ]
    },
    {
      "cell_type": "code",
      "metadata": {
        "id": "fruDKVdywmMR",
        "colab_type": "code",
        "colab": {
          "base_uri": "https://localhost:8080/",
          "height": 126
        },
        "outputId": "093d45b4-ba23-47a3-849e-d582d97bc179"
      },
      "source": [
        "from google.colab import drive\n",
        "drive.mount('/content/drive')"
      ],
      "execution_count": 1,
      "outputs": [
        {
          "output_type": "stream",
          "text": [
            "Go to this URL in a browser: https://accounts.google.com/o/oauth2/auth?client_id=947318989803-6bn6qk8qdgf4n4g3pfee6491hc0brc4i.apps.googleusercontent.com&redirect_uri=urn%3aietf%3awg%3aoauth%3a2.0%3aoob&response_type=code&scope=email%20https%3a%2f%2fwww.googleapis.com%2fauth%2fdocs.test%20https%3a%2f%2fwww.googleapis.com%2fauth%2fdrive%20https%3a%2f%2fwww.googleapis.com%2fauth%2fdrive.photos.readonly%20https%3a%2f%2fwww.googleapis.com%2fauth%2fpeopleapi.readonly\n",
            "\n",
            "Enter your authorization code:\n",
            "··········\n",
            "Mounted at /content/drive\n"
          ],
          "name": "stdout"
        }
      ]
    },
    {
      "cell_type": "code",
      "metadata": {
        "id": "ONuKU1w7w2OV",
        "colab_type": "code",
        "colab": {}
      },
      "source": [
        "PATH = '/content/drive/My Drive'\n",
        "import os\n",
        "os.chdir(PATH)"
      ],
      "execution_count": 2,
      "outputs": []
    },
    {
      "cell_type": "code",
      "metadata": {
        "id": "8EUVjPRhxn07",
        "colab_type": "code",
        "colab": {}
      },
      "source": [
        "!wget -qq https://www.dropbox.com/s/gdlb8dnjzcly51o/quickdraw.zip\n",
        "  \n",
        "!unzip -qq quickdraw.zip\n",
        "\n",
        "!rm -r __MACOSX\n",
        "!rm quickdraw.zip\n",
        "\n",
        "# !ls"
      ],
      "execution_count": null,
      "outputs": []
    },
    {
      "cell_type": "code",
      "metadata": {
        "id": "9hhqtaiAUTTM",
        "colab_type": "code",
        "colab": {
          "base_uri": "https://localhost:8080/",
          "height": 106
        },
        "outputId": "fb54d80c-dfa3-4e50-b504-2a75c0b6462b"
      },
      "source": [
        "!ls quickdraw"
      ],
      "execution_count": 4,
      "outputs": [
        {
          "output_type": "stream",
          "text": [
            "'alarm clock.npy'   bee.npy\t\t cookie.npy\t  lollipop.npy\n",
            " ambulance.npy\t   'birthday cake.npy'\t donut.npy\t 'palm tree.npy'\n",
            " angel.npy\t    brain.npy\t\t eyeglasses.npy   pig.npy\n",
            " ant.npy\t    cactus.npy\t\t face.npy\t  postcard.npy\n",
            " banana.npy\t    cat.npy\t\t fish.npy\t  rainbow.npy\n"
          ],
          "name": "stdout"
        }
      ]
    },
    {
      "cell_type": "markdown",
      "metadata": {
        "id": "PUn-RtiAWWq5",
        "colab_type": "text"
      },
      "source": [
        "## Prepare data for network"
      ]
    },
    {
      "cell_type": "code",
      "metadata": {
        "id": "LpIWP261r1zU",
        "colab_type": "code",
        "colab": {}
      },
      "source": [
        "QUICKDRAW_PATH = os.path.join(PATH, 'quickdraw')"
      ],
      "execution_count": 3,
      "outputs": []
    },
    {
      "cell_type": "code",
      "metadata": {
        "id": "Ub39qyiE4kWV",
        "colab_type": "code",
        "colab": {
          "base_uri": "https://localhost:8080/",
          "height": 55
        },
        "outputId": "c396ca18-163c-4c01-8c7c-777ff934c499"
      },
      "source": [
        "import ntpath\n",
        "\n",
        "CLASS_NAMES = []\n",
        "\n",
        "for file in os.listdir(QUICKDRAW_PATH):\n",
        "  name = ntpath.basename(file)\n",
        "  CLASS_NAMES.append(name[:-4])\n",
        "  \n",
        "print(CLASS_NAMES)"
      ],
      "execution_count": 5,
      "outputs": [
        {
          "output_type": "stream",
          "text": [
            "['alarm clock', 'ambulance', 'angel', 'ant', 'banana', 'bee', 'birthday cake', 'brain', 'cactus', 'cat', 'cookie', 'donut', 'eyeglasses', 'face', 'fish', 'lollipop', 'palm tree', 'pig', 'postcard', 'rainbow']\n"
          ],
          "name": "stdout"
        }
      ]
    },
    {
      "cell_type": "code",
      "metadata": {
        "id": "8oTbGaU3zbpX",
        "colab_type": "code",
        "colab": {}
      },
      "source": [
        "import numpy as np\n",
        "x_data =np.array([])\n",
        "y_labels =np.array([])\n",
        "n = 12000\n",
        "\n",
        "for i, class_name in enumerate(CLASS_NAMES):\n",
        "  filename = os.path.join(QUICKDRAW_PATH, class_name+'.npy')\n",
        "  labels = [i for j in range(n)]\n",
        "  arr = np.load(filename)\n",
        "  arr = arr[:n]\n",
        "  if len(x_data) == 0:\n",
        "    x_data = arr\n",
        "    y_labels = np.asarray(labels)\n",
        "  else:\n",
        "    x_data = np.concatenate((x_data, arr))\n",
        "    y_labels = np.concatenate((y_labels, labels))"
      ],
      "execution_count": 42,
      "outputs": []
    },
    {
      "cell_type": "code",
      "metadata": {
        "id": "A2HFzLRs0t5E",
        "colab_type": "code",
        "colab": {
          "base_uri": "https://localhost:8080/",
          "height": 35
        },
        "outputId": "0539faeb-bbc8-496a-a1ee-67baadbb4629"
      },
      "source": [
        "x_data.shape, y_labels.shape"
      ],
      "execution_count": 43,
      "outputs": [
        {
          "output_type": "execute_result",
          "data": {
            "text/plain": [
              "((240000, 784), (240000,))"
            ]
          },
          "metadata": {
            "tags": []
          },
          "execution_count": 43
        }
      ]
    },
    {
      "cell_type": "code",
      "metadata": {
        "id": "1fv2cpqa04ET",
        "colab_type": "code",
        "colab": {
          "base_uri": "https://localhost:8080/",
          "height": 35
        },
        "outputId": "94e57191-be14-4dd8-8570-bb3ea93be7e4"
      },
      "source": [
        "from sklearn.utils import shuffle\n",
        "\n",
        "x_data, y_labels = shuffle(x_data, y_labels, random_state=42)\n",
        "\n",
        "\n",
        "from sklearn.model_selection import train_test_split\n",
        "\n",
        "x, x_test, y, y_test = train_test_split(x_data, y_labels, test_size=0.1, random_state=42)\n",
        "x.shape, y.shape"
      ],
      "execution_count": 44,
      "outputs": [
        {
          "output_type": "execute_result",
          "data": {
            "text/plain": [
              "((216000, 784), (216000,))"
            ]
          },
          "metadata": {
            "tags": []
          },
          "execution_count": 44
        }
      ]
    },
    {
      "cell_type": "code",
      "metadata": {
        "id": "gWxciAnOAGXZ",
        "colab_type": "code",
        "colab": {
          "base_uri": "https://localhost:8080/",
          "height": 35
        },
        "outputId": "f4b81c98-a9ab-4247-ad83-0c5a4adde159"
      },
      "source": [
        "x, y = shuffle(x, y, random_state=42)\n",
        "x_train, x_val, y_train, y_val = train_test_split(x, y, test_size=0.2, random_state=42)\n",
        "x_train.shape, y_train.shape"
      ],
      "execution_count": 45,
      "outputs": [
        {
          "output_type": "execute_result",
          "data": {
            "text/plain": [
              "((172800, 784), (172800,))"
            ]
          },
          "metadata": {
            "tags": []
          },
          "execution_count": 45
        }
      ]
    },
    {
      "cell_type": "markdown",
      "metadata": {
        "id": "aavcc6IMPH-s",
        "colab_type": "text"
      },
      "source": [
        "## Data Pipeline"
      ]
    },
    {
      "cell_type": "code",
      "metadata": {
        "id": "lRB4-Q982AAi",
        "colab_type": "code",
        "colab": {}
      },
      "source": [
        "import tensorflow as tf\n",
        "n_classes = len(CLASS_NAMES)"
      ],
      "execution_count": 46,
      "outputs": []
    },
    {
      "cell_type": "code",
      "metadata": {
        "id": "XH0qEAuT2RQV",
        "colab_type": "code",
        "colab": {}
      },
      "source": [
        "train_dataset = tf.data.Dataset.from_tensor_slices((x_train, y_train))\n",
        "val_dataset = tf.data.Dataset.from_tensor_slices((x_val, y_val))\n",
        "test_dataset = tf.data.Dataset.from_tensor_slices((x_test, y_test))"
      ],
      "execution_count": 47,
      "outputs": []
    },
    {
      "cell_type": "code",
      "metadata": {
        "id": "ZQ2677UP17hN",
        "colab_type": "code",
        "colab": {}
      },
      "source": [
        "BATCH_SIZE = 64\n",
        "SHUFFLE_BUFFER_SIZE = 100\n",
        "\n",
        "train_dataset = train_dataset.shuffle(SHUFFLE_BUFFER_SIZE).batch(BATCH_SIZE)\n",
        "val_dataset = val_dataset.batch(BATCH_SIZE)\n",
        "test_dataset = test_dataset.batch(BATCH_SIZE)"
      ],
      "execution_count": 48,
      "outputs": []
    },
    {
      "cell_type": "markdown",
      "metadata": {
        "id": "nkwx_J9B8vAP",
        "colab_type": "text"
      },
      "source": [
        "## Baseline model"
      ]
    },
    {
      "cell_type": "code",
      "metadata": {
        "id": "TpALdDx5Ca56",
        "colab_type": "code",
        "colab": {
          "base_uri": "https://localhost:8080/",
          "height": 35
        },
        "outputId": "a3bf0aa1-cca9-4e30-caae-5b9e37e27e53"
      },
      "source": [
        "y_train[:10]"
      ],
      "execution_count": 59,
      "outputs": [
        {
          "output_type": "execute_result",
          "data": {
            "text/plain": [
              "array([15, 16,  1,  5, 12, 16,  1,  5, 11, 11])"
            ]
          },
          "metadata": {
            "tags": []
          },
          "execution_count": 59
        }
      ]
    },
    {
      "cell_type": "markdown",
      "metadata": {
        "id": "P_nyVJv5CPf9",
        "colab_type": "text"
      },
      "source": [
        "We use Sparse Categorical Crossentropy loss because the y labels are in integers and not one-hot encoded."
      ]
    },
    {
      "cell_type": "code",
      "metadata": {
        "id": "tQ1CDU-f8w8P",
        "colab_type": "code",
        "colab": {}
      },
      "source": [
        "model = tf.keras.Sequential([\n",
        "    tf.keras.layers.Flatten(input_shape=(x_train[1].shape)),\n",
        "    tf.keras.layers.Dense(128, activation='relu'),\n",
        "    tf.keras.layers.Dense(n_classes)\n",
        "])\n",
        "\n",
        "model.compile(optimizer=tf.keras.optimizers.RMSprop(),\n",
        "              loss=tf.keras.losses.SparseCategoricalCrossentropy(from_logits=True),\n",
        "              metrics=['sparse_categorical_accuracy'])"
      ],
      "execution_count": 49,
      "outputs": []
    },
    {
      "cell_type": "code",
      "metadata": {
        "id": "g9MoF1mq8z16",
        "colab_type": "code",
        "colab": {
          "base_uri": "https://localhost:8080/",
          "height": 121
        },
        "outputId": "2151a720-5414-42fc-aaa4-473da8e1a249"
      },
      "source": [
        "tf.keras.utils.plot_model(model, show_shapes=True, rankdir=\"LR\")"
      ],
      "execution_count": 50,
      "outputs": [
        {
          "output_type": "execute_result",
          "data": {
            "image/png": "[encoded data removed]",
            "text/plain": [
              "<IPython.core.display.Image object>"
            ]
          },
          "metadata": {
            "tags": []
          },
          "execution_count": 50
        }
      ]
    },
    {
      "cell_type": "markdown",
      "metadata": {
        "id": "rOU8aW899GvF",
        "colab_type": "text"
      },
      "source": [
        "### Train"
      ]
    },
    {
      "cell_type": "code",
      "metadata": {
        "id": "qIUn9j359BFL",
        "colab_type": "code",
        "colab": {
          "base_uri": "https://localhost:8080/",
          "height": 410
        },
        "outputId": "27d0f7c3-287e-43e7-8817-c11547896899"
      },
      "source": [
        "model.fit(train_dataset, validation_data=val_dataset, epochs=10)"
      ],
      "execution_count": 51,
      "outputs": [
        {
          "output_type": "stream",
          "text": [
            "Epoch 1/10\n",
            "2700/2700 [==============================] - 7s 2ms/step - loss: 3.2394 - sparse_categorical_accuracy: 0.2923 - val_loss: 2.3774 - val_sparse_categorical_accuracy: 0.3402\n",
            "Epoch 2/10\n",
            "2700/2700 [==============================] - 6s 2ms/step - loss: 2.3691 - sparse_categorical_accuracy: 0.3591 - val_loss: 2.4597 - val_sparse_categorical_accuracy: 0.3886\n",
            "Epoch 3/10\n",
            "2700/2700 [==============================] - 6s 2ms/step - loss: 2.3318 - sparse_categorical_accuracy: 0.3784 - val_loss: 2.4016 - val_sparse_categorical_accuracy: 0.3784\n",
            "Epoch 4/10\n",
            "2700/2700 [==============================] - 6s 2ms/step - loss: 2.3356 - sparse_categorical_accuracy: 0.3804 - val_loss: 2.6856 - val_sparse_categorical_accuracy: 0.3770\n",
            "Epoch 5/10\n",
            "2700/2700 [==============================] - 7s 2ms/step - loss: 2.3359 - sparse_categorical_accuracy: 0.3820 - val_loss: 2.5593 - val_sparse_categorical_accuracy: 0.3724\n",
            "Epoch 6/10\n",
            "2700/2700 [==============================] - 6s 2ms/step - loss: 2.3706 - sparse_categorical_accuracy: 0.3785 - val_loss: 2.6971 - val_sparse_categorical_accuracy: 0.3801\n",
            "Epoch 7/10\n",
            "2700/2700 [==============================] - 6s 2ms/step - loss: 2.3727 - sparse_categorical_accuracy: 0.3795 - val_loss: 2.6970 - val_sparse_categorical_accuracy: 0.3888\n",
            "Epoch 8/10\n",
            "2700/2700 [==============================] - 6s 2ms/step - loss: 2.3929 - sparse_categorical_accuracy: 0.3764 - val_loss: 2.7978 - val_sparse_categorical_accuracy: 0.3800\n",
            "Epoch 9/10\n",
            "2700/2700 [==============================] - 6s 2ms/step - loss: 2.3917 - sparse_categorical_accuracy: 0.3775 - val_loss: 2.7937 - val_sparse_categorical_accuracy: 0.3775\n",
            "Epoch 10/10\n",
            "2700/2700 [==============================] - 6s 2ms/step - loss: 2.3824 - sparse_categorical_accuracy: 0.3756 - val_loss: 2.7425 - val_sparse_categorical_accuracy: 0.3508\n"
          ],
          "name": "stdout"
        },
        {
          "output_type": "execute_result",
          "data": {
            "text/plain": [
              "<tensorflow.python.keras.callbacks.History at 0x7fc190eb8fd0>"
            ]
          },
          "metadata": {
            "tags": []
          },
          "execution_count": 51
        }
      ]
    },
    {
      "cell_type": "markdown",
      "metadata": {
        "id": "qgVaF-cJ9Idz",
        "colab_type": "text"
      },
      "source": [
        "### Evaluate"
      ]
    },
    {
      "cell_type": "code",
      "metadata": {
        "id": "gWFk65op9BKH",
        "colab_type": "code",
        "colab": {
          "base_uri": "https://localhost:8080/",
          "height": 52
        },
        "outputId": "7ed7f071-4d28-4e9d-af51-67d484184d7f"
      },
      "source": [
        "model.evaluate(test_dataset)"
      ],
      "execution_count": 52,
      "outputs": [
        {
          "output_type": "stream",
          "text": [
            "375/375 [==============================] - 1s 2ms/step - loss: 2.7092 - sparse_categorical_accuracy: 0.3536\n"
          ],
          "name": "stdout"
        },
        {
          "output_type": "execute_result",
          "data": {
            "text/plain": [
              "[2.7091574668884277, 0.35358333587646484]"
            ]
          },
          "metadata": {
            "tags": []
          },
          "execution_count": 52
        }
      ]
    },
    {
      "cell_type": "markdown",
      "metadata": {
        "id": "YoeGkUwoWa5Z",
        "colab_type": "text"
      },
      "source": [
        "## Deeper model"
      ]
    },
    {
      "cell_type": "code",
      "metadata": {
        "id": "WJfOJGTd3mlx",
        "colab_type": "code",
        "colab": {}
      },
      "source": [
        "rate = 0.2\n",
        "model = tf.keras.Sequential([\n",
        "    tf.keras.layers.Flatten(input_shape=(x_train[1].shape)),\n",
        "    tf.keras.layers.Dense(128, activation='relu'),\n",
        "    tf.keras.layers.Dropout(rate),\n",
        "    tf.keras.layers.Dense(128, activation='relu'),\n",
        "    tf.keras.layers.Dropout(rate),\n",
        "    tf.keras.layers.Dense(n_classes)\n",
        "])\n",
        "\n",
        "model.compile(optimizer=tf.keras.optimizers.RMSprop(),\n",
        "              loss=tf.keras.losses.SparseCategoricalCrossentropy(from_logits=True),\n",
        "              metrics=['sparse_categorical_accuracy'])"
      ],
      "execution_count": 53,
      "outputs": []
    },
    {
      "cell_type": "code",
      "metadata": {
        "id": "jt3sT09I7ckI",
        "colab_type": "code",
        "colab": {
          "base_uri": "https://localhost:8080/",
          "height": 104
        },
        "outputId": "a259b3ec-3890-4833-9375-dff343e8cc53"
      },
      "source": [
        "tf.keras.utils.plot_model(model, show_shapes=True, rankdir=\"LR\")"
      ],
      "execution_count": 54,
      "outputs": [
        {
          "output_type": "execute_result",
          "data": {
            "image/png": "[encoded data removed]",
            "text/plain": [
              "<IPython.core.display.Image object>"
            ]
          },
          "metadata": {
            "tags": []
          },
          "execution_count": 54
        }
      ]
    },
    {
      "cell_type": "markdown",
      "metadata": {
        "id": "_OhJLujQ86EF",
        "colab_type": "text"
      },
      "source": [
        "### Train"
      ]
    },
    {
      "cell_type": "code",
      "metadata": {
        "id": "oFQPyEBx3rW3",
        "colab_type": "code",
        "colab": {
          "base_uri": "https://localhost:8080/",
          "height": 410
        },
        "outputId": "09ae4e2a-705e-40a9-cabb-8fb9b6a8d912"
      },
      "source": [
        "model.fit(train_dataset, validation_data=val_dataset, epochs=10)"
      ],
      "execution_count": 55,
      "outputs": [
        {
          "output_type": "stream",
          "text": [
            "Epoch 1/10\n",
            "2700/2700 [==============================] - 7s 3ms/step - loss: 3.1940 - sparse_categorical_accuracy: 0.1852 - val_loss: 2.4691 - val_sparse_categorical_accuracy: 0.2574\n",
            "Epoch 2/10\n",
            "2700/2700 [==============================] - 7s 3ms/step - loss: 2.3863 - sparse_categorical_accuracy: 0.2956 - val_loss: 1.9825 - val_sparse_categorical_accuracy: 0.4290\n",
            "Epoch 3/10\n",
            "2700/2700 [==============================] - 7s 3ms/step - loss: 2.1277 - sparse_categorical_accuracy: 0.3903 - val_loss: 1.7809 - val_sparse_categorical_accuracy: 0.4784\n",
            "Epoch 4/10\n",
            "2700/2700 [==============================] - 7s 3ms/step - loss: 2.0179 - sparse_categorical_accuracy: 0.4268 - val_loss: 1.6914 - val_sparse_categorical_accuracy: 0.5136\n",
            "Epoch 5/10\n",
            "2700/2700 [==============================] - 7s 3ms/step - loss: 1.9115 - sparse_categorical_accuracy: 0.4556 - val_loss: 1.6541 - val_sparse_categorical_accuracy: 0.5317\n",
            "Epoch 6/10\n",
            "2700/2700 [==============================] - 7s 3ms/step - loss: 1.8680 - sparse_categorical_accuracy: 0.4715 - val_loss: 1.6039 - val_sparse_categorical_accuracy: 0.5387\n",
            "Epoch 7/10\n",
            "2700/2700 [==============================] - 7s 3ms/step - loss: 1.8672 - sparse_categorical_accuracy: 0.4774 - val_loss: 1.5977 - val_sparse_categorical_accuracy: 0.5522\n",
            "Epoch 8/10\n",
            "2700/2700 [==============================] - 7s 3ms/step - loss: 1.8659 - sparse_categorical_accuracy: 0.4804 - val_loss: 1.6606 - val_sparse_categorical_accuracy: 0.5375\n",
            "Epoch 9/10\n",
            "2700/2700 [==============================] - 7s 3ms/step - loss: 1.8599 - sparse_categorical_accuracy: 0.4847 - val_loss: 1.6295 - val_sparse_categorical_accuracy: 0.5586\n",
            "Epoch 10/10\n",
            "2700/2700 [==============================] - 7s 3ms/step - loss: 1.8575 - sparse_categorical_accuracy: 0.4853 - val_loss: 1.6113 - val_sparse_categorical_accuracy: 0.5492\n"
          ],
          "name": "stdout"
        },
        {
          "output_type": "execute_result",
          "data": {
            "text/plain": [
              "<tensorflow.python.keras.callbacks.History at 0x7fc18f5650f0>"
            ]
          },
          "metadata": {
            "tags": []
          },
          "execution_count": 55
        }
      ]
    },
    {
      "cell_type": "markdown",
      "metadata": {
        "id": "NE3ciDjc8-dX",
        "colab_type": "text"
      },
      "source": [
        "### Evaluate"
      ]
    },
    {
      "cell_type": "code",
      "metadata": {
        "id": "FNTlIrgSpXei",
        "colab_type": "code",
        "colab": {
          "base_uri": "https://localhost:8080/",
          "height": 52
        },
        "outputId": "a53f2861-8c9b-401a-86a1-672f065bad89"
      },
      "source": [
        "model.evaluate(test_dataset)"
      ],
      "execution_count": 56,
      "outputs": [
        {
          "output_type": "stream",
          "text": [
            "375/375 [==============================] - 1s 2ms/step - loss: 1.5736 - sparse_categorical_accuracy: 0.5547\n"
          ],
          "name": "stdout"
        },
        {
          "output_type": "execute_result",
          "data": {
            "text/plain": [
              "[1.5736123323440552, 0.5547083616256714]"
            ]
          },
          "metadata": {
            "tags": []
          },
          "execution_count": 56
        }
      ]
    },
    {
      "cell_type": "markdown",
      "metadata": {
        "id": "ul6nwhThWeyp",
        "colab_type": "text"
      },
      "source": [
        "## Even deeper model"
      ]
    },
    {
      "cell_type": "markdown",
      "metadata": {
        "id": "w6k4Z-U6Cl0e",
        "colab_type": "text"
      },
      "source": [
        "I tested using a wider model (fully connected layer with 500 nodes) but the results were worse than the baseline model. Therefore, I will try an even deeper model."
      ]
    },
    {
      "cell_type": "code",
      "metadata": {
        "id": "NGQJIfLH9O35",
        "colab_type": "code",
        "colab": {}
      },
      "source": [
        "rate = 0.2\n",
        "model = tf.keras.Sequential([\n",
        "    tf.keras.layers.Flatten(input_shape=(x_train[1].shape)),\n",
        "    tf.keras.layers.Dense(128, activation='relu'),\n",
        "    tf.keras.layers.Dropout(rate),\n",
        "    tf.keras.layers.Dense(128, activation='relu'),\n",
        "    tf.keras.layers.Dropout(rate),\n",
        "    tf.keras.layers.Dense(128, activation='relu'),\n",
        "    tf.keras.layers.Dropout(rate),\n",
        "    tf.keras.layers.Dense(128, activation='relu'),\n",
        "    tf.keras.layers.Dropout(rate),\n",
        "    tf.keras.layers.Dense(n_classes)\n",
        "])\n",
        "\n",
        "model.compile(optimizer=tf.keras.optimizers.RMSprop(),\n",
        "              loss=tf.keras.losses.SparseCategoricalCrossentropy(from_logits=True),\n",
        "              metrics=['sparse_categorical_accuracy'])"
      ],
      "execution_count": 65,
      "outputs": []
    },
    {
      "cell_type": "code",
      "metadata": {
        "id": "4OeaJ7vG9TJs",
        "colab_type": "code",
        "colab": {
          "base_uri": "https://localhost:8080/",
          "height": 72
        },
        "outputId": "c90a4499-569f-4534-d650-7e6c9990e7e2"
      },
      "source": [
        "tf.keras.utils.plot_model(model, show_shapes=True, rankdir=\"LR\")"
      ],
      "execution_count": 66,
      "outputs": [
        {
          "output_type": "execute_result",
          "data": {
            "image/png": "[encoded data removed]",
            "text/plain": [
              "<IPython.core.display.Image object>"
            ]
          },
          "metadata": {
            "tags": []
          },
          "execution_count": 66
        }
      ]
    },
    {
      "cell_type": "code",
      "metadata": {
        "id": "dlDJV42FuOtr",
        "colab_type": "code",
        "colab": {
          "base_uri": "https://localhost:8080/",
          "height": 766
        },
        "outputId": "69a81894-a249-4a0a-ae88-ab5f54297e9a"
      },
      "source": [
        "lr = tf.keras.callbacks.ReduceLROnPlateau(monitor='val_loss', factor=0.2, patience=2, min_lr=0.0001) \n",
        "es = tf.keras.callbacks.EarlyStopping(monitor='val_loss', patience=3)\n",
        "\n",
        "model.fit(train_dataset, validation_data=val_dataset, epochs=20, callbacks=[lr, es])"
      ],
      "execution_count": 67,
      "outputs": [
        {
          "output_type": "stream",
          "text": [
            "Epoch 1/20\n",
            "2700/2700 [==============================] - 8s 3ms/step - loss: 2.4622 - sparse_categorical_accuracy: 0.3301 - val_loss: 1.7364 - val_sparse_categorical_accuracy: 0.4721\n",
            "Epoch 2/20\n",
            "2700/2700 [==============================] - 8s 3ms/step - loss: 1.8830 - sparse_categorical_accuracy: 0.4373 - val_loss: 1.6159 - val_sparse_categorical_accuracy: 0.5046\n",
            "Epoch 3/20\n",
            "2700/2700 [==============================] - 8s 3ms/step - loss: 1.8244 - sparse_categorical_accuracy: 0.4598 - val_loss: 1.5487 - val_sparse_categorical_accuracy: 0.5305\n",
            "Epoch 4/20\n",
            "2700/2700 [==============================] - 8s 3ms/step - loss: 1.7900 - sparse_categorical_accuracy: 0.4751 - val_loss: 1.5231 - val_sparse_categorical_accuracy: 0.5502\n",
            "Epoch 5/20\n",
            "2700/2700 [==============================] - 8s 3ms/step - loss: 1.7658 - sparse_categorical_accuracy: 0.4871 - val_loss: 1.5230 - val_sparse_categorical_accuracy: 0.5444\n",
            "Epoch 6/20\n",
            "2700/2700 [==============================] - 8s 3ms/step - loss: 1.7562 - sparse_categorical_accuracy: 0.4942 - val_loss: 1.5209 - val_sparse_categorical_accuracy: 0.5567\n",
            "Epoch 7/20\n",
            "2700/2700 [==============================] - 8s 3ms/step - loss: 1.7467 - sparse_categorical_accuracy: 0.4993 - val_loss: 1.5206 - val_sparse_categorical_accuracy: 0.5630\n",
            "Epoch 8/20\n",
            "2700/2700 [==============================] - 8s 3ms/step - loss: 1.7553 - sparse_categorical_accuracy: 0.5010 - val_loss: 1.5227 - val_sparse_categorical_accuracy: 0.5541\n",
            "Epoch 9/20\n",
            "2700/2700 [==============================] - 8s 3ms/step - loss: 1.7562 - sparse_categorical_accuracy: 0.5040 - val_loss: 1.4795 - val_sparse_categorical_accuracy: 0.5691\n",
            "Epoch 10/20\n",
            "2700/2700 [==============================] - 9s 3ms/step - loss: 1.7594 - sparse_categorical_accuracy: 0.5060 - val_loss: 1.5206 - val_sparse_categorical_accuracy: 0.5704\n",
            "Epoch 11/20\n",
            "2700/2700 [==============================] - 9s 3ms/step - loss: 1.7577 - sparse_categorical_accuracy: 0.5073 - val_loss: 1.4943 - val_sparse_categorical_accuracy: 0.5703\n",
            "Epoch 12/20\n",
            "2700/2700 [==============================] - 8s 3ms/step - loss: 1.6451 - sparse_categorical_accuracy: 0.5350 - val_loss: 1.4211 - val_sparse_categorical_accuracy: 0.5905\n",
            "Epoch 13/20\n",
            "2700/2700 [==============================] - 8s 3ms/step - loss: 1.6346 - sparse_categorical_accuracy: 0.5406 - val_loss: 1.4067 - val_sparse_categorical_accuracy: 0.5945\n",
            "Epoch 14/20\n",
            "2700/2700 [==============================] - 8s 3ms/step - loss: 1.6224 - sparse_categorical_accuracy: 0.5424 - val_loss: 1.3929 - val_sparse_categorical_accuracy: 0.5972\n",
            "Epoch 15/20\n",
            "2700/2700 [==============================] - 8s 3ms/step - loss: 1.6197 - sparse_categorical_accuracy: 0.5464 - val_loss: 1.3938 - val_sparse_categorical_accuracy: 0.5989\n",
            "Epoch 16/20\n",
            "2700/2700 [==============================] - 8s 3ms/step - loss: 1.6047 - sparse_categorical_accuracy: 0.5472 - val_loss: 1.4001 - val_sparse_categorical_accuracy: 0.6002\n",
            "Epoch 17/20\n",
            "2700/2700 [==============================] - 8s 3ms/step - loss: 1.5874 - sparse_categorical_accuracy: 0.5538 - val_loss: 1.3901 - val_sparse_categorical_accuracy: 0.6028\n",
            "Epoch 18/20\n",
            "2700/2700 [==============================] - 8s 3ms/step - loss: 1.5844 - sparse_categorical_accuracy: 0.5549 - val_loss: 1.3919 - val_sparse_categorical_accuracy: 0.6000\n",
            "Epoch 19/20\n",
            "2700/2700 [==============================] - 8s 3ms/step - loss: 1.5866 - sparse_categorical_accuracy: 0.5557 - val_loss: 1.3922 - val_sparse_categorical_accuracy: 0.6022\n",
            "Epoch 20/20\n",
            "2700/2700 [==============================] - 8s 3ms/step - loss: 1.5766 - sparse_categorical_accuracy: 0.5581 - val_loss: 1.3878 - val_sparse_categorical_accuracy: 0.6037\n"
          ],
          "name": "stdout"
        },
        {
          "output_type": "execute_result",
          "data": {
            "text/plain": [
              "<tensorflow.python.keras.callbacks.History at 0x7fc18c8bc240>"
            ]
          },
          "metadata": {
            "tags": []
          },
          "execution_count": 67
        }
      ]
    },
    {
      "cell_type": "code",
      "metadata": {
        "id": "x5TNfgBP9TPN",
        "colab_type": "code",
        "colab": {
          "base_uri": "https://localhost:8080/",
          "height": 52
        },
        "outputId": "0a43cb86-9022-421b-8106-7930f5f216f1"
      },
      "source": [
        "model.evaluate(test_dataset)"
      ],
      "execution_count": 68,
      "outputs": [
        {
          "output_type": "stream",
          "text": [
            "375/375 [==============================] - 1s 2ms/step - loss: 1.3507 - sparse_categorical_accuracy: 0.6048\n"
          ],
          "name": "stdout"
        },
        {
          "output_type": "execute_result",
          "data": {
            "text/plain": [
              "[1.3507342338562012, 0.6048333048820496]"
            ]
          },
          "metadata": {
            "tags": []
          },
          "execution_count": 68
        }
      ]
    },
    {
      "cell_type": "code",
      "metadata": {
        "id": "3be5EdFH9qQP",
        "colab_type": "code",
        "colab": {}
      },
      "source": [
        ""
      ],
      "execution_count": null,
      "outputs": []
    }
  ]
}